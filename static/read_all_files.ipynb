{
 "cells": [
  {
   "cell_type": "code",
   "execution_count": null,
   "metadata": {},
   "outputs": [],
   "source": [
    "import pandas as pd\n",
    "import os\n",
    "import csv\n",
    "import re"
   ]
  },
  {
   "cell_type": "code",
   "execution_count": null,
   "metadata": {},
   "outputs": [],
   "source": [
    "# set the directory path\n",
    "dir_path = 'F:\\\\'\n",
    "\n",
    "# create a new CSV file\n",
    "with open('file_names.csv', mode='w', newline='', encoding='utf-8') as file:\n",
    "    writer = csv.writer(file)\n",
    "    \n",
    "    # iterate through all the files in the directory and its subdirectories\n",
    "    for root, dirs, files in os.walk(dir_path):\n",
    "        for file in files:\n",
    "            # write the file name to the CSV file\n",
    "            writer.writerow([os.path.join(root, file)])\n"
   ]
  },
  {
   "cell_type": "code",
   "execution_count": null,
   "metadata": {},
   "outputs": [],
   "source": [
    "df_tbu = pd.DataFrame(columns=['Details', 'QTY(PCS)', 'Unit Price', 'Amount', '日期', '主播', 'INV'])\n",
    "invoice_regex = r\".*(MC\\d+)\"\n",
    "count = 0\n",
    "# find the invoice number that starts with \"MC\" and is followed by numbers\n",
    "\n",
    "# read the CSV file and get the first file name\n",
    "file_names = pd.read_csv('file_names.csv', header=None)\n",
    "for path in file_names.iloc[:, 0]:\n",
    "    if path.endswith('.xlsx' or '.xls'):        \n",
    "        if re.match(invoice_regex, path) is not None:\n",
    "            file = path\n",
    "            if \"~$\" in file:\n",
    "                continue\n",
    "            \n",
    "       \n",
    "    else:\n",
    "        continue\n",
    "    try:\n",
    "        df = pd.read_excel(file, sheet_name=\"Invoice\")                    \n",
    "        col1=df.eq(\"Details\").any(axis=0).idxmax()\n",
    "        col2=df.eq(\"Amount\").any(axis=0).idxmax()\n",
    "        col3=df.eq(\"Unit Price\").any(axis=0).idxmax()\n",
    "        col4=df.eq(\"QTY(PCS)\").any(axis=0).idxmax()\n",
    "        df.dropna(subset=[col1, col2,col3, col4], inplace=True)\n",
    "        df.dropna(axis=1, how='all', inplace=True)\n",
    "        df.columns = df.iloc[0,]    \n",
    "        df=df[['Details', 'QTY(PCS)', 'Unit Price', 'Amount', '日期', '主播']]\n",
    "        df[\"INV\"]=re.match(invoice_regex, file).groups()[0]\n",
    "        df.drop(df.index[0], inplace=True)\n",
    "        df_tbu = pd.concat([df_tbu,df], ignore_index=True, join=\"inner\")\n",
    "    except:\n",
    "        count += 1\n",
    "        print (f\"Error:{count} \", file)\n",
    "        continue\n",
    "df_tbu['日期'] = df_tbu['日期'].map(lambda x: pd.to_datetime(x,unit='D', origin=pd.Timestamp('1900-01-01')) if isinstance(x, int) else x)\n",
    "df_tbu.to_csv('output.csv', index=False)   \n",
    "\n",
    "\n"
   ]
  }
 ],
 "metadata": {
  "kernelspec": {
   "display_name": "Python 3",
   "language": "python",
   "name": "python3"
  },
  "language_info": {
   "codemirror_mode": {
    "name": "ipython",
    "version": 3
   },
   "file_extension": ".py",
   "mimetype": "text/x-python",
   "name": "python",
   "nbconvert_exporter": "python",
   "pygments_lexer": "ipython3",
   "version": "3.10.7"
  }
 },
 "nbformat": 4,
 "nbformat_minor": 2
}
